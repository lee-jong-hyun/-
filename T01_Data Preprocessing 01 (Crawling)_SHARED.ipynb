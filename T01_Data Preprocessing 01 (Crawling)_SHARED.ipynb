{
 "cells": [
  {
   "cell_type": "markdown",
   "metadata": {},
   "source": [
    "**Business Programming (19S1)** - 이한솔(dashpot@naver.com)"
   ]
  },
  {
   "cell_type": "markdown",
   "metadata": {},
   "source": [
    "# 웹 크롤링(Web Crawling)"
   ]
  },
  {
   "cell_type": "markdown",
   "metadata": {},
   "source": [
    "## 웹페이지 형식"
   ]
  },
  {
   "cell_type": "markdown",
   "metadata": {},
   "source": [
    "## 웹 크롤링을 위한 모듈"
   ]
  },
  {
   "cell_type": "markdown",
   "metadata": {},
   "source": [
    "### requests 모듈"
   ]
  },
  {
   "cell_type": "code",
   "execution_count": 3,
   "metadata": {
    "ExecuteTime": {
     "end_time": "2019-04-17T06:28:29.943515Z",
     "start_time": "2019-04-17T06:28:29.529401Z"
    }
   },
   "outputs": [
    {
     "name": "stdout",
     "output_type": "stream",
     "text": [
      "--- requests 모듈이 가져온 웹페이지 소스코드 일부 ---\n",
      "\n",
      "<!DOCTYPE html PUBLIC \"-//W3C//DTD XHTML 1.0 Transitional//EN\" \"http://www.w3.org/TR/xhtml1/DTD/xhtml1-transitional.dtd\">\n",
      "<html xmlns=\"http://www.w3.org/1999/xhtml\" xml:lang=\"ko\" lang=\"ko\">\n",
      "<head>\n",
      "\n",
      "<title>아주대에 오신걸 환영합니다.</title>\n",
      "<meta http-equiv=\"Content-Type\" content=\"text/html; charset=utf-8\" />\n",
      "\n",
      "--- requests 모듈이 반환하는 기타 정보들 ---\n",
      "접속 상태 정보: 200\n",
      "정상 접속 여부: True\n"
     ]
    }
   ],
   "source": [
    "import requests # requests 모듈을 불러온다.\n",
    "\n",
    "url = \"https://www.ajou.ac.kr\" # 접속하고자 하는 웹페이지의 URL 주소를 문자열로 변수에 할당한다.\n",
    "\n",
    "req = requests.get(url) # requests의 get 메소드를 사용하여 웹페이지에 접속하고 그 정보를 req 변수에 할당한다.\n",
    "text = req.text # 웹페이지 접속 정보에서 웹페이지의 소스를 text 변수에 할당한다.\n",
    "\n",
    "print(\"--- requests 모듈이 가져온 웹페이지 소스코드 일부 ---\")\n",
    "print(text[:300])\n",
    "\n",
    "print(\"--- requests 모듈이 반환하는 기타 정보들 ---\")\n",
    "print(\"접속 상태 정보: {}\".format(req.status_code))\n",
    "print(\"정상 접속 여부: {}\".format(req.ok))"
   ]
  },
  {
   "cell_type": "markdown",
   "metadata": {},
   "source": [
    "### bs4 모듈"
   ]
  },
  {
   "cell_type": "code",
   "execution_count": 1,
   "metadata": {
    "ExecuteTime": {
     "end_time": "2019-04-17T06:35:18.100180Z",
     "start_time": "2019-04-17T06:35:18.092711Z"
    }
   },
   "outputs": [
    {
     "name": "stdout",
     "output_type": "stream",
     "text": [
      " -- bs4가 반환하는 soup 객체의 클래스 -- \n",
      "<class 'bs4.BeautifulSoup'>\n",
      "\n",
      " -- bs4가 반환하는 soup 객체의 내용 --\n",
      "<!DOCTYPE html>\n",
      "<html>\n",
      "<head>\n",
      "<title>여기는 웹페이지의 제목입니다.</title>\n",
      "</head>\n",
      "<body>\n",
      "<p>여기는 웹페이지의 내용이에요!</p>\n",
      "</body>\n",
      "</html>\n"
     ]
    }
   ],
   "source": [
    "from bs4 import BeautifulSoup\n",
    "\n",
    "html = \"\"\"<!DOCTYPE html>\n",
    "<html>\n",
    "  <head>\n",
    "    <title>여기는 웹페이지의 제목입니다.</title>\n",
    "  </head>\n",
    "  <body>\n",
    "    <p>여기는 웹페이지의 내용이에요!</p>\n",
    "  </body>\n",
    "</html>\"\"\"\n",
    "\n",
    "soup = BeautifulSoup(html, \"html\")\n",
    "\n",
    "print(\" -- bs4가 반환하는 soup 객체의 클래스 -- \")\n",
    "print(type(soup))\n",
    "print()\n",
    "\n",
    "print(\" -- bs4가 반환하는 soup 객체의 내용 --\")\n",
    "print(soup)"
   ]
  },
  {
   "cell_type": "code",
   "execution_count": 2,
   "metadata": {
    "ExecuteTime": {
     "end_time": "2019-04-18T07:46:02.542455Z",
     "start_time": "2019-04-18T07:46:02.532139Z"
    }
   },
   "outputs": [
    {
     "name": "stdout",
     "output_type": "stream",
     "text": [
      " -- select_one 예제  -- \n",
      "<title>여기는 웹페이지의 제목입니다.</title>\n",
      "여기는 웹페이지의 제목입니다.\n",
      "\n",
      " -- select 예제 -- \n",
      "[<p>여기는 웹페이지의 내용이에요!\n",
      "    </p>, <p>크롤링의 기본을 배우고 있습니다!</p>]\n",
      "\n",
      " -- select가 반환하는 요소 리스트 순회 출력 -- \n",
      "여기는 웹페이지의 내용이에요!\n",
      "    \n",
      "크롤링의 기본을 배우고 있습니다!\n"
     ]
    }
   ],
   "source": [
    "from bs4 import BeautifulSoup\n",
    "\n",
    "html = \"\"\"<!DOCTYPE html>\n",
    "<html>\n",
    "  <head>\n",
    "    <title>여기는 웹페이지의 제목입니다.</title>\n",
    "  </head>\n",
    "  <body>\n",
    "    <p>여기는 웹페이지의 내용이에요!\n",
    "    </p>\n",
    "    <p>크롤링의 기본을 배우고 있습니다!</p>\n",
    "  </body>\n",
    "</html>\"\"\"\n",
    "\n",
    "soup = BeautifulSoup(html, \"html\")\n",
    "\n",
    "print(\" -- select_one 예제  -- \")\n",
    "print(soup.select_one('title'))\n",
    "print(soup.select_one('title').string)\n",
    "print()\n",
    "\n",
    "print(\" -- select 예제 -- \")\n",
    "print(soup.select('p'))\n",
    "print()\n",
    "\n",
    "print(\" -- select가 반환하는 요소 리스트 순회 출력 -- \")\n",
    "for ps in soup.select('p'):\n",
    "    print(ps.string)"
   ]
  },
  {
   "cell_type": "markdown",
   "metadata": {},
   "source": [
    "### CSS Selector"
   ]
  },
  {
   "cell_type": "markdown",
   "metadata": {},
   "source": [
    "- **id 선택자**"
   ]
  },
  {
   "cell_type": "code",
   "execution_count": 11,
   "metadata": {
    "ExecuteTime": {
     "end_time": "2019-04-18T04:08:15.397403Z",
     "start_time": "2019-04-18T04:08:15.389858Z"
    }
   },
   "outputs": [
    {
     "name": "stdout",
     "output_type": "stream",
     "text": [
      "-- #myModal --------\n",
      "<div id=\"myModal\" role=\"dialog\">\n",
      "<div>\n",
      "<!-- Modal content-->\n",
      "<div id=\"popupContent\">\n",
      "<p>이곳에 메시지가 출력됩니다.</p>\n",
      "</div>\n",
      "</div>\n",
      "</div>\n",
      "\n",
      "-- #popupContent --------\n",
      "<div id=\"popupContent\">\n",
      "<p>이곳에 메시지가 출력됩니다.</p>\n",
      "</div>\n"
     ]
    }
   ],
   "source": [
    "sample_text = '''\n",
    "<!-- Modal -->\n",
    "<div id=\"myModal\" role=\"dialog\">\n",
    "  <div>\n",
    "    <!-- Modal content-->\n",
    "    <div id=\"popupContent\">\n",
    "        <p>이곳에 메시지가 출력됩니다.</p>\n",
    "    </div>\n",
    "  </div>\n",
    "</div>\n",
    "'''"
   ]
  },
  {
   "cell_type": "markdown",
   "metadata": {},
   "source": [
    "- **class 선택자**"
   ]
  },
  {
   "cell_type": "code",
   "execution_count": 53,
   "metadata": {
    "ExecuteTime": {
     "end_time": "2019-04-18T07:28:23.864454Z",
     "start_time": "2019-04-18T07:28:23.856057Z"
    }
   },
   "outputs": [
    {
     "name": "stdout",
     "output_type": "stream",
     "text": [
      "-- .cnt_left --------\n",
      "<div class=\"cnt_left\">\n",
      "<div class=\"blog-single-head\">\n",
      "<h1 class=\"noyebbs-head-title\">방송에 출연하고 싶었던 아기 고양이</h1>\n",
      "<div class=\"blog-single-head-date\">\n",
      "<span class=\"author\">\n",
      "<a class=\"member_134 author\" href=\"#popup_menu_area\" onclick=\"return false\">\n",
      "                    내용\n",
      "                </a>\n",
      "</span>\n",
      "</div>\n",
      "</div>\n",
      "</div>\n",
      "\n",
      "-- .author --------\n",
      "[<span class=\"author\">\n",
      "<a class=\"member_134 author\" href=\"#popup_menu_area\" onclick=\"return false\">\n",
      "                    내용\n",
      "                </a>\n",
      "</span>, <a class=\"member_134 author\" href=\"#popup_menu_area\" onclick=\"return false\">\n",
      "                    내용\n",
      "                </a>]\n"
     ]
    }
   ],
   "source": [
    "sample_text = '''\n",
    "<div class=\"main_cnt\">\n",
    "    <div class=\"cnt_left\">\n",
    "    <div class=\"blog-single-head\">\n",
    "        <h1 class=\"noyebbs-head-title\">방송에 출연하고 싶었던 아기 고양이</h1>\n",
    "        <div class=\"blog-single-head-date\">\n",
    "            <span class=\"author\">\n",
    "                <a href=\"#popup_menu_area\" class=\"member_134 author\" onclick=\"return false\">\n",
    "                    내용\n",
    "                </a>            \n",
    "            </span>\n",
    "        </div>\n",
    "    </div>\n",
    "    </div>\n",
    "</div>\n",
    "'''"
   ]
  },
  {
   "cell_type": "markdown",
   "metadata": {},
   "source": [
    "- **descendant 선택자**"
   ]
  },
  {
   "cell_type": "code",
   "execution_count": 33,
   "metadata": {
    "ExecuteTime": {
     "end_time": "2019-04-18T07:11:40.930735Z",
     "start_time": "2019-04-18T07:11:40.920077Z"
    }
   },
   "outputs": [
    {
     "name": "stdout",
     "output_type": "stream",
     "text": [
      "-- detail_toc 클래스를 가진 div 아래의 li --------\n",
      "[<li>다섯번째 요소</li>, <li>여섯번째 요소</li>, <li>일곱번째 요소</li>, <li>여덟번째 요소</li>, <li>아홉번째 요소</li>, <li>열번째 요소</li>]\n",
      "\n",
      "-- section 아이디를 가진 div 아래의 li --------\n",
      "[<li>첫번째 요소</li>, <li>두번째 요소</li>, <li>세번째 요소</li>, <li>네번째 요소</li>, <li>다섯번째 요소</li>, <li>여섯번째 요소</li>, <li>일곱번째 요소</li>, <li>여덟번째 요소</li>, <li>아홉번째 요소</li>, <li>열번째 요소</li>]\n"
     ]
    }
   ],
   "source": [
    "sample_text = '''\n",
    "<div id=\"section\">\n",
    "    <div class=\"toc\">\n",
    "        <p>이곳에 메시지가 출력됩니다.</p>\n",
    "        <ul id=\"top\">\n",
    "            <li>첫번째 요소</li>\n",
    "            <li>두번째 요소</li>\n",
    "            <li>세번째 요소</li>\n",
    "            <li>네번째 요소</li>\n",
    "        </ul>\n",
    "    </div>\n",
    "    <div class=\"detail_toc\">\n",
    "        <ul id=\"middle\">\n",
    "            <li>다섯번째 요소</li>\n",
    "            <li>여섯번째 요소</li>\n",
    "            <li>일곱번째 요소</li>\n",
    "            <li>여덟번째 요소</li>\n",
    "            <li>아홉번째 요소</li>\n",
    "        </ul>\n",
    "        <ul id=\"bottom\">\n",
    "            <li>열번째 요소</li>\n",
    "        </ul>\n",
    "    </div>\n",
    "</div>\n",
    "'''"
   ]
  },
  {
   "cell_type": "code",
   "execution_count": 35,
   "metadata": {
    "ExecuteTime": {
     "end_time": "2019-04-18T07:13:54.812380Z",
     "start_time": "2019-04-18T07:13:54.802707Z"
    }
   },
   "outputs": [
    {
     "name": "stdout",
     "output_type": "stream",
     "text": [
      "-- detail_toc 클래스를 가진 div 아래의 li --------\n",
      "[]\n",
      "\n",
      "-- top 아이디를 가진 ul 아래의 li --------\n",
      "[<li>첫번째 요소</li>, <li>두번째 요소</li>, <li>세번째 요소</li>, <li>네번째 요소</li>]\n"
     ]
    }
   ],
   "source": [
    "sample_text = '''\n",
    "<div id=\"section\">\n",
    "    <div class=\"toc\">\n",
    "        <p>이곳에 메시지가 출력됩니다.</p>\n",
    "        <ul id=\"top\">\n",
    "            <li>첫번째 요소</li>\n",
    "            <li>두번째 요소</li>\n",
    "            <li>세번째 요소</li>\n",
    "            <li>네번째 요소</li>\n",
    "        </ul>\n",
    "    </div>\n",
    "    <div class=\"detail_toc\">\n",
    "        <ul id=\"middle\">\n",
    "            <li>다섯번째 요소</li>\n",
    "            <li>여섯번째 요소</li>\n",
    "            <li>일곱번째 요소</li>\n",
    "            <li>여덟번째 요소</li>\n",
    "            <li>아홉번째 요소</li>\n",
    "        </ul>\n",
    "        <ul id=\"bottom\">\n",
    "            <li>열번째 요소</li>\n",
    "        </ul>\n",
    "    </div>\n",
    "</div>\n",
    "'''\n",
    "\n",
    "soup = BeautifulSoup(sample_text, 'html')\n",
    "print(\"-- detail_toc 클래스를 가진 div 아래의 li --------\")\n",
    "\n",
    "print()\n",
    "\n",
    "print(\"-- top 아이디를 가진 ul 아래의 li --------\")\n",
    "\n",
    "print()"
   ]
  },
  {
   "cell_type": "markdown",
   "metadata": {},
   "source": [
    "**attribute 선택자**"
   ]
  },
  {
   "cell_type": "code",
   "execution_count": 36,
   "metadata": {
    "ExecuteTime": {
     "end_time": "2019-04-18T07:17:04.690611Z",
     "start_time": "2019-04-18T07:17:04.684074Z"
    },
    "scrolled": true
   },
   "outputs": [
    {
     "name": "stdout",
     "output_type": "stream",
     "text": [
      "-- a 태그의 href 속성값 \n",
      "[<a class=\"member_134 author\" href=\"#popup_menu_area\" onclick=\"return false\">\n",
      "                    내용\n",
      "                </a>]\n"
     ]
    }
   ],
   "source": [
    "sample_text = '''\n",
    "<div class=\"main_cnt\">\n",
    "    <div class=\"cnt_left\">\n",
    "    <div class=\"blog-single-head\">\n",
    "        <h1 class=\"noyebbs-head-title\">방송에 출연하고 싶었던 아기 고양이</h1>\n",
    "        <div class=\"blog-single-head-date\">\n",
    "            <span class=\"author\">\n",
    "                <a href=\"#popup_menu_area\" class=\"member_134 author\" onclick=\"return false\">\n",
    "                    내용\n",
    "                </a>            \n",
    "            </span>\n",
    "        </div>\n",
    "    </div>\n",
    "    </div>\n",
    "</div>\n",
    "'''"
   ]
  },
  {
   "cell_type": "code",
   "execution_count": 52,
   "metadata": {
    "ExecuteTime": {
     "end_time": "2019-04-18T07:22:05.838595Z",
     "start_time": "2019-04-18T07:22:05.827064Z"
    }
   },
   "outputs": [
    {
     "name": "stdout",
     "output_type": "stream",
     "text": [
      "-- 도서관 홈페이지로 가는 링크 \n",
      "[<a href=\"http://library.ajou.ac.kr\">\n",
      "                    도서관 홈페이지로\n",
      "                </a>]\n",
      "\n",
      "-- http로 시작하는 모든 링크\n",
      "[<a href=\"http://library.ajou.ac.kr\">\n",
      "                    도서관 홈페이지로\n",
      "                </a>, <a href=\"http://www.ajou.ac.kr\">\n",
      "                    아주대학교 홈페이지로\n",
      "                </a>]\n",
      "\n",
      "-- ac.kr로 시작하는 모든 링크\n",
      "[<a href=\"http://library.ajou.ac.kr\">\n",
      "                    도서관 홈페이지로\n",
      "                </a>, <a href=\"http://www.ajou.ac.kr\">\n",
      "                    아주대학교 홈페이지로\n",
      "                </a>]\n"
     ]
    }
   ],
   "source": [
    "from bs4 import BeautifulSoup\n",
    "\n",
    "sample_text = '''\n",
    "<div class=\"main_cnt\">\n",
    "    <div class=\"cnt_left\">\n",
    "    <div class=\"blog-single-head\">\n",
    "        <h1 class=\"noyebbs-head-title\">제목</h1>\n",
    "        <div class=\"blog-single-head-date\">\n",
    "            <span class=\"author\">\n",
    "                <a href=\"http://library.ajou.ac.kr\">\n",
    "                    도서관 홈페이지로\n",
    "                </a>\n",
    "                <a href=\"http://www.ajou.ac.kr\">\n",
    "                    아주대학교 홈페이지로\n",
    "                </a>\n",
    "                <a href=\"#top\">\n",
    "                    페이지 맨 위로\n",
    "                </a>\n",
    "            </span>\n",
    "        </div>\n",
    "    </div>\n",
    "    </div>\n",
    "</div>\n",
    "'''\n",
    "\n",
    "soup = BeautifulSoup(sample_text, 'html')\n",
    "print(\"-- 도서관 홈페이지로 가는 링크 \")\n",
    "print(soup.select(\"a[href*='library']\"))\n",
    "print()\n",
    "\n",
    "print(\"-- http로 시작하는 모든 링크\")\n",
    "print(soup.select(\"a[href^='http']\"))\n",
    "print()\n",
    "\n",
    "print(\"-- ac.kr로 시작하는 모든 링크\")\n",
    "print(soup.select(\"a[href$='ac.kr']\"))"
   ]
  },
  {
   "cell_type": "markdown",
   "metadata": {},
   "source": [
    "### 통합 예제"
   ]
  },
  {
   "cell_type": "code",
   "execution_count": 46,
   "metadata": {
    "ExecuteTime": {
     "end_time": "2019-04-17T08:49:19.393473Z",
     "start_time": "2019-04-17T08:49:19.086847Z"
    }
   },
   "outputs": [
    {
     "name": "stdout",
     "output_type": "stream",
     "text": [
      "--- 아주대 도서관 공지사항 리스트 ---\n",
      "중앙/법학 도서관 자료실 개교기념일 휴관 안내\n",
      "중앙도서관 열람실 시험기간 이용 안내\n",
      "도서관 웹진 14-2호가 발간되었습니다.\n",
      "4월 둘째주 커뮤니티라운지 영화 상영 안내\n",
      "친구와 함께 하는 맞춤형 도서관 이용 교육 접수 ...\n"
     ]
    }
   ],
   "source": [
    "import requests\n",
    "from bs4 import BeautifulSoup\n",
    "\n",
    "TARGET_URL = \"https://library.ajou.ac.kr/index.ax\"\n",
    "\n",
    "req = requests.get(TARGET_URL)\n",
    "html = req.text\n",
    "\n",
    "soup = BeautifulSoup(html, \"html\")\n",
    "\n",
    "soup_notice = soup.select_one(\"#containerW > div.leftW > div.sec01\")\n",
    "\n",
    "notices = soup_notice.select(\"li > a\")\n",
    "\n",
    "print(\"--- 아주대 도서관 공지사항 리스트 ---\")\n",
    "for notice in notices:\n",
    "    print(notice.get_text(strip = True))"
   ]
  },
  {
   "cell_type": "markdown",
   "metadata": {},
   "source": [
    "## 웹 크롤링 절차"
   ]
  },
  {
   "cell_type": "markdown",
   "metadata": {},
   "source": [
    "## 웹 크롤링 유의 사항"
   ]
  },
  {
   "cell_type": "markdown",
   "metadata": {},
   "source": [
    "웹 크롤링은 웹페이지에 *비정상적*인 접근 방법을 사용하여 콘텐츠를 취하는 것으로 오용 또는 남용할 경우 웹페이지를 유지 관리하는 개인이나 단체에게 큰 피해를 입힐 수 있다. 그런 이유로 일부 웹페이지는 웹크롤러의 활동가능 범위를 규정하기도 한다. 이러한 규정사항은 웹페이지 구조에 robots.txt 파일을 생성하여 작성하는 것이 규칙이다. (네이버, https://www.naver.com/robots.txt) 이 규칙은 강제사항은 아니지만 이에 따라 웹크롤러의 활동 범위를 정하는 것이 일반적이다. 이외에도 웹크롤링을 수행하기전에 검토해야할 것들이 있다."
   ]
  },
  {
   "cell_type": "markdown",
   "metadata": {},
   "source": [
    "- 웹크롤링 수행에 대하여\n",
    "    - 서비스 이용 약관\n",
    "    \n",
    "\n",
    "- 웹크롤링 결과에 대하여\n",
    "    - 저작권보호\n",
    "    - 개인정보보호"
   ]
  },
  {
   "cell_type": "markdown",
   "metadata": {},
   "source": [
    "별도의 명시가 되어있지 않더라도 웹크롤링을 수행할 때에는 항상 웹 자원에 대해 고민해보아야 한다. 웹 자원이 한정적인 웹페이지를 크롤링할 경우, 비정상적으로 많은 접근으로 인한 서비스 장애가 올 수 있기 때문이다. 이러한 문제를 방지하기 위해 자체적으로 웹크롤러를 차단하려는 시도가 많이 있다. (예: Amazon.com) 따라서 웹크롤링을 실시할 때에 웹페이지에 대한 영향을 최소화할 필요가 있다."
   ]
  },
  {
   "cell_type": "code",
   "execution_count": 2,
   "metadata": {
    "ExecuteTime": {
     "end_time": "2019-04-17T18:16:15.640747Z",
     "start_time": "2019-04-17T18:16:14.975024Z"
    }
   },
   "outputs": [
    {
     "name": "stdout",
     "output_type": "stream",
     "text": [
      "--- 아주대 도서관 공지사항 리스트 ---\n",
      "중앙/법학 도서관 자료실 개교기념일 휴관 안내\n",
      "중앙도서관 열람실 시험기간 이용 안내\n",
      "도서관 웹진 14-2호가 발간되었습니다.\n",
      "4월 둘째주 커뮤니티라운지 영화 상영 안내\n",
      "친구와 함께 하는 맞춤형 도서관 이용 교육 접수 ...\n",
      "--- 아주대 도서관 공지사항 리스트 ---\n",
      "[서비스안내] 19년 구독중인 각종 학술지/논문/...\n",
      "[이벤트] 19학번 대상 이용자 이벤트\n",
      "[휴관안내] 설날연휴 법학 도서관 자료실 휴관 ...\n",
      "[개관공지] 법학전문도서관 조기 개관안내\n",
      "[휴관안내] 법학전문도서관 자료실 이전에 따른 임...\n"
     ]
    }
   ],
   "source": [
    "import time\n",
    "\n",
    "import requests\n",
    "from bs4 import BeautifulSoup\n",
    "\n",
    "USER_AGENT = \"Mozilla/5.0 (Windows NT 10.0; Win64; x64)\" + \\\n",
    "             \"AppleWebKit/537.36 (KHTML, like Gecko)\" + \\\n",
    "             \" Chrome/70.0.3538.77 Safari/537.36\"\n",
    "HEADERS = {\"User-Agent\": USER_AGENT}\n",
    "PAUSE = 1\n",
    "\n",
    "TARGET_URL = [\"https://library.ajou.ac.kr/index.ax\", \"https://lawlib.ajou.ac.kr/index.ax\"]\n",
    "\n",
    "for url in TARGET_URL:\n",
    "    req = requests.get(url, headers=HEADERS)\n",
    "    html = req.text\n",
    "\n",
    "    soup = BeautifulSoup(html, \"html\")\n",
    "\n",
    "    soup_notice = soup.select_one(\"#containerW > div.leftW > div.sec01\")\n",
    "\n",
    "    notices = soup_notice.select(\"li > a\")\n",
    "\n",
    "    print(\"--- 아주대 도서관 공지사항 리스트 ---\")\n",
    "    for notice in notices:\n",
    "        print(notice.get_text(strip = True))\n",
    "    print()\n",
    "    time.sleep(PAUSE)"
   ]
  },
  {
   "cell_type": "markdown",
   "metadata": {},
   "source": [
    "## 웹 크롤링 실전"
   ]
  },
  {
   "cell_type": "markdown",
   "metadata": {},
   "source": [
    "### 웹페이지 선정"
   ]
  },
  {
   "cell_type": "markdown",
   "metadata": {},
   "source": [
    "### 웹페이지 구조 파악"
   ]
  },
  {
   "cell_type": "markdown",
   "metadata": {},
   "source": [
    "### 웹페이지 수집 절차"
   ]
  },
  {
   "cell_type": "markdown",
   "metadata": {},
   "source": [
    "### 웹크롤러 작성"
   ]
  },
  {
   "cell_type": "markdown",
   "metadata": {},
   "source": [
    "- 고양이뉴스 게시판의 URL\n",
    "    - http://catory.kr/fcNews\n",
    "    \n",
    "    \n",
    "- 고양이뉴스 게시판의 첫번째 페이지 URL\n",
    "    - http://catory.kr/index.php?mid=fcNews&page=1\n",
    "    \n",
    "    \n",
    "- 고양이뉴스 게시판의 뉴스 카테고리 첫번째 페이지 URL\n",
    "    - http://catory.kr/index.php?mid=fcNews&category=143\n",
    "    \n",
    "    \n",
    "- 게시물 URL: http://catory.kr/index.php?mid=fcNews&category=143&document_srl=9202"
   ]
  },
  {
   "cell_type": "code",
   "execution_count": 22,
   "metadata": {
    "ExecuteTime": {
     "end_time": "2019-04-18T06:41:08.363397Z",
     "start_time": "2019-04-18T06:41:08.358197Z"
    }
   },
   "outputs": [],
   "source": [
    "import requests\n",
    "from bs4 import BeautifulSoup\n",
    "from ordered_set import OrderedSet\n",
    "\n",
    "import ujson\n",
    "import time\n",
    "\n",
    "USER_AGENT = \"Mozilla/5.0 (Windows NT 10.0; Win64; x64)\" + \\\n",
    "             \"AppleWebKit/537.36 (KHTML, like Gecko)\" + \\\n",
    "             \" Chrome/70.0.3538.77 Safari/537.36\"\n",
    "HEADERS = {\"User-Agent\": USER_AGENT}\n",
    "\n",
    "TOP_URL = \"http://catory.kr\"\n",
    "PAGE_URL_TMPL = \"http://catory.kr/index.php?mid=fcNews&category=143&page={}\" # format\n",
    "PAGE_STOP_SIGN = \"게시물이 없습니다.\"\n",
    "PAUSE = 1.5\n",
    "\n",
    "OUTPUT_FILE = \"crawling_results/catory-news.txt\""
   ]
  },
  {
   "cell_type": "code",
   "execution_count": 23,
   "metadata": {
    "ExecuteTime": {
     "end_time": "2019-04-18T06:41:15.832572Z",
     "start_time": "2019-04-18T06:41:08.902250Z"
    },
    "scrolled": true
   },
   "outputs": [
    {
     "name": "stdout",
     "output_type": "stream",
     "text": [
      "수집을 종료합니다.\n"
     ]
    }
   ],
   "source": [
    "page_urls = OrderedSet()\n",
    "page_num = 1\n",
    "while True:\n",
    "    if page_num % 5 == 0:\n",
    "        print(\"현재 {}페이지를 작업중입니다.\".format(page_num))\n",
    "        \n",
    "    req = requests.get(PAGE_URL_TMPL.format(page_num))\n",
    "    html = req.text\n",
    "    \n",
    "    if PAGE_STOP_SIGN in html:\n",
    "        print(\"수집을 종료합니다.\")\n",
    "        break\n",
    "    \n",
    "    soup = BeautifulSoup(html, 'html')\n",
    "    urls = [ TOP_URL + url['href'] for url in soup.find_all(\"a\", class_='hx')]\n",
    "    # list comprehension \n",
    "    \n",
    "    page_urls.update(urls)\n",
    "    page_num += 1\n",
    "    time.sleep(PAUSE)"
   ]
  },
  {
   "cell_type": "code",
   "execution_count": 29,
   "metadata": {
    "ExecuteTime": {
     "end_time": "2019-04-18T07:05:36.008055Z",
     "start_time": "2019-04-18T07:04:11.739076Z"
    }
   },
   "outputs": [
    {
     "name": "stdout",
     "output_type": "stream",
     "text": [
      "작업중입니다...0/48\n",
      "작업중입니다...5/48\n",
      "작업중입니다...10/48\n",
      "작업중입니다...15/48\n",
      "작업중입니다...20/48\n",
      "작업중입니다...25/48\n",
      "작업중입니다...30/48\n",
      "작업중입니다...35/48\n",
      "작업중입니다...40/48\n",
      "작업중입니다...45/48\n"
     ]
    }
   ],
   "source": [
    "with open(OUTPUT_FILE, \"w\", encoding=\"utf-8\") as output_file:\n",
    "    for idx, url in enumerate(page_urls):\n",
    "        if idx % 5 == 0:\n",
    "            print(\"작업중입니다...{}/{}\".format(idx, len(page_urls)))\n",
    "        req = requests.get(url)\n",
    "        html = req.text\n",
    "        soup = BeautifulSoup(html, 'html') \n",
    "\n",
    "        elem = soup.select_one(\"div.cnt_left\")\n",
    "\n",
    "        title = elem.select_one(\"h1.noyebbs-head-title\").string.strip()\n",
    "        author = elem.select_one(\"span.author\").text.strip()\n",
    "        date_time = elem.select_one(\"span.time\").string.strip()\n",
    "        read_count = elem.select_one(\"span.read_count\").string.strip()\n",
    "        like_count = elem.select_one(\"span.vote_count\").string.strip()\n",
    "        body = elem.select_one(\"div.xe_content\").text.strip()\n",
    "\n",
    "        json_obj = {\n",
    "                                \"title\": title,\n",
    "                                \"author\": author,\n",
    "                                \"date_time\": date_time,\n",
    "                                \"view_count\": read_count,\n",
    "                                \"like_count\": like_count,\n",
    "                                \"body\": body,\n",
    "                                \"url\": url\n",
    "                            }\n",
    "\n",
    "        json_str = ujson.dumps(json_obj, ensure_ascii=False)\n",
    "        print(json_str, file=output_file, flush=True)\n",
    "\n",
    "        time.sleep(0.5)"
   ]
  },
  {
   "cell_type": "markdown",
   "metadata": {},
   "source": [
    "# 오픈 API 활용 (Naver)"
   ]
  },
  {
   "cell_type": "markdown",
   "metadata": {},
   "source": [
    "## 네이버 책 검색 API"
   ]
  },
  {
   "cell_type": "markdown",
   "metadata": {},
   "source": [
    "https://developers.naver.com/docs/search/book"
   ]
  },
  {
   "cell_type": "code",
   "execution_count": 28,
   "metadata": {
    "ExecuteTime": {
     "end_time": "2019-04-18T07:02:28.826961Z",
     "start_time": "2019-04-18T07:02:28.712626Z"
    }
   },
   "outputs": [
    {
     "name": "stdout",
     "output_type": "stream",
     "text": [
      "<b>텍스트 마이닝</b> (Text Mining)\n",
      "R를 이용한 <b>텍스트 마이닝</b>\n",
      "김정은 정권의 대남정책 및 통일 담론 : <b>텍스트마이닝</b>을 이용한 분석 (KINU 연구총서 16-05)\n",
      "경영을 위한 데이터<b>마이닝</b>\n",
      "R 데이터<b>마이닝</b>\n",
      "데이터 <b>마이닝</b> 개념과 기법 (에이콘 데이터 과학 시리즈)\n",
      "컴퓨터와 R을 활용한 <b>텍스트</b> 데이터 분석 기초\n",
      "데이터 <b>마이닝</b> Data mining (데이터 속 숨은 의미를 찾는 기계 학습의 이론과 응용)\n",
      "소셜 웹 <b>마이닝</b> (소셜미디어 데이터 <b>마이닝</b> 및 분석)\n",
      "데이터<b>마이닝</b> (데이터를 정보로, 정보를 지식으로 변환)\n"
     ]
    }
   ],
   "source": [
    "import requests\n",
    "\n",
    "query = \"텍스트마이닝\"\n",
    "url = \"https://openapi.naver.com/v1/search/book.json\"\n",
    "\n",
    "headers = {\n",
    "    \"X-Naver-Client-Id\": CLIENT_ID, \n",
    "    \"X-Naver-Client-Secret\": CLIENT_SECRET\n",
    "}\n",
    "\n",
    "params = {\n",
    "    \"query\": query,\n",
    "    \"display\": 10,\n",
    "    \"start\": 1,\n",
    "    \"sort\": \"sim\"\n",
    "}\n",
    "\n",
    "req = requests.get(url, params=params, headers=headers)\n",
    "result = req.json()\n",
    "\n",
    "for item in result[\"items\"]:\n",
    "    print(item[\"title\"])"
   ]
  }
 ],
 "metadata": {
  "kernelspec": {
   "display_name": "Python 3",
   "language": "python",
   "name": "python3"
  },
  "language_info": {
   "codemirror_mode": {
    "name": "ipython",
    "version": 3
   },
   "file_extension": ".py",
   "mimetype": "text/x-python",
   "name": "python",
   "nbconvert_exporter": "python",
   "pygments_lexer": "ipython3",
   "version": "3.7.1"
  },
  "toc": {
   "base_numbering": 1,
   "nav_menu": {},
   "number_sections": true,
   "sideBar": true,
   "skip_h1_title": false,
   "title_cell": "Table of Contents",
   "title_sidebar": "Contents",
   "toc_cell": false,
   "toc_position": {
    "height": "calc(100% - 180px)",
    "left": "10px",
    "top": "150px",
    "width": "277.594px"
   },
   "toc_section_display": true,
   "toc_window_display": true
  },
  "varInspector": {
   "cols": {
    "lenName": 16,
    "lenType": 16,
    "lenVar": 40
   },
   "kernels_config": {
    "python": {
     "delete_cmd_postfix": "",
     "delete_cmd_prefix": "del ",
     "library": "var_list.py",
     "varRefreshCmd": "print(var_dic_list())"
    },
    "r": {
     "delete_cmd_postfix": ") ",
     "delete_cmd_prefix": "rm(",
     "library": "var_list.r",
     "varRefreshCmd": "cat(var_dic_list()) "
    }
   },
   "types_to_exclude": [
    "module",
    "function",
    "builtin_function_or_method",
    "instance",
    "_Feature"
   ],
   "window_display": false
  }
 },
 "nbformat": 4,
 "nbformat_minor": 2
}
